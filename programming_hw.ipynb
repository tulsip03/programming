{
  "nbformat": 4,
  "nbformat_minor": 0,
  "metadata": {
    "colab": {
      "provenance": [],
      "authorship_tag": "ABX9TyN1ddqzt/J2zdacaK8W1wpM",
      "include_colab_link": true
    },
    "kernelspec": {
      "name": "python3",
      "display_name": "Python 3"
    },
    "language_info": {
      "name": "python"
    }
  },
  "cells": [
    {
      "cell_type": "markdown",
      "metadata": {
        "id": "view-in-github",
        "colab_type": "text"
      },
      "source": [
        "<a href=\"https://colab.research.google.com/github/tulsip03/programming/blob/main/programming_hw.ipynb\" target=\"_parent\"><img src=\"https://colab.research.google.com/assets/colab-badge.svg\" alt=\"Open In Colab\"/></a>"
      ]
    },
    {
      "cell_type": "code",
      "execution_count": 10,
      "metadata": {
        "colab": {
          "base_uri": "https://localhost:8080/"
        },
        "id": "NEwbp0IPHf2d",
        "outputId": "4f5bcfea-001a-49df-fe9f-cb696e60b1de"
      },
      "outputs": [
        {
          "output_type": "stream",
          "name": "stdout",
          "text": [
            "The sample mean is -1.0899806430403438 \n",
            "\n",
            "The sample standard deviation is 3.2847981697718236 \n",
            "\n",
            "The zscores are - [-1.05060967 -0.74576403 -0.38160532  0.24681908  0.52189922  0.70940228\n",
            " -0.59306576  0.70489592  0.19667971] \n",
            "\n",
            "The covariance is -2.8396505928938773 \n",
            "\n",
            "The correlation is -0.42205093921264875 \n",
            "\n"
          ]
        }
      ],
      "source": [
        "import numpy as np\n",
        "np.random.seed(100)\n",
        "rho, sigma_x, sigma_y = -.4, 3, 2\n",
        "vcv = np.array([[sigma_x**2, rho*sigma_x*sigma_y],\n",
        "                [rho*sigma_x*sigma_y,sigma_y**2]])\n",
        "mu = np.array([-1,2])\n",
        "sample = np.random.multivariate_normal(mu,vcv,200)\n",
        "x = sample[:,0]\n",
        "y = sample[:,1]\n",
        "# used from answer key to set array\n",
        "\n",
        "#Q1\n",
        "def mean(arr):\n",
        "    s = sum(arr) # taking the sum of the array of numbers\n",
        "    l = len(arr) # finding the total number of observations in the array\n",
        "    answer = s/l # divide sum by number of observations\n",
        "    return(answer)\n",
        "print('The sample mean is', mean(x),'\\n')\n",
        "\n",
        "#Q2\n",
        "def sd(x):\n",
        "    m = mean(x)\n",
        "    totalsqdif = np.sum( (x-m)**2 ) # subtract the mean from each observation and take the square and add each observation together\n",
        "    sd = np.sqrt(totalsqdif/((len(x))-1)) # take the total and divide by the total number of observations minus 1\n",
        "    return(sd)\n",
        "print('The sample standard deviation is', sd(x),'\\n')\n",
        "\n",
        "#Q3\n",
        "def zscore(x):\n",
        "    zscore = (x-mean(x))/sd(x) # subtract each observation by the mean and divide by the standard deviation\n",
        "    return(zscore)\n",
        "print('The zscores are -', zscore(x)[1:10],'\\n')\n",
        "\n",
        "# Part 4:\n",
        "def cov(x,y):\n",
        "    totalsqdif = np.sum((x-mean(x))*(y-mean(y))) # take the sum of each observation of x minus the mean multiplied by each observation of y minus the mean\n",
        "    covar = totalsqdif / ((len(x))-1) # take the total and divide by the number of observations - 1\n",
        "    return(covar)\n",
        "print('The covariance is', cov(x,y),'\\n')\n",
        "\n",
        "# Part 5:\n",
        "def corr(x,y):\n",
        "    cvr = cov(x,y)\n",
        "    result = cvr/(sd(x)*sd(y)) # divide the previously found covariance by the product of the sd of x and the sd of y\n",
        "    return(result)\n",
        "print('The correlation is', corr(x,y),'\\n')"
      ]
    }
  ]
}